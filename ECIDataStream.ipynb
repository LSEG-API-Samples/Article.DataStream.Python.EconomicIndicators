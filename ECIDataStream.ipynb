{
 "cells": [
  {
   "cell_type": "markdown",
   "metadata": {},
   "source": [
    "# Economic Indicators with Datastream\n",
    "\n",
    "An economic indicator is a statistic matric of an economic activity used by investors to evaluate the overall health of an economy and predict  future investment possibilities. Economic indicators are typically surveyed or gathered by a government department or private organization. Economic indicators cover many things including the unemployment rate, inflation rate, gross domestic product, population, bankruptcies, etc.\n",
    "\n",
    "This article demonstrates how to use Datastream to access cross-countries' economic indicators.  \n",
    "\n",
    "## Datastream\n",
    "\n",
    "Datastream is the world’s leading time-series database, enabling strategists, economists, and research communities’ access to the most comprehensive financial information available. With histories back to the 1950s, you can explore relationships between data series; perform correlation analysis, test investment and trading ideas, and research countries, regions, and industries.\n",
    "\n",
    "The Datastream database has over 35 million individual instruments or indicators across major asset classes. You can directly invoke the web service methods from your own applications by using metadata information we publish.\n",
    "\n",
    "The Datastream Web Service allows direct access to historical financial time series content listed below.\n",
    "\n",
    "![](datastream.png)\n",
    "\n",
    "For more information, please refer to [Datastream Web Service](https://developers.refinitiv.com/en/api-catalog/eikon/datastream-web-service).\n",
    "\n",
    "\n",
    "## Example\n",
    "\n",
    "In this section, I will walk through a DataStream Web Service example used to retrieve economic indicators by countries. The example uses the [DatastreamDSWS](https://pypi.org/project/DatastreamDSWS/) library to connect and retrieve data from Datastream. To use this Python library, please refer to the [Getting Started with Python](https://developers.refinitiv.com/en/api-catalog/eikon/datastream-web-service/Documents) document.\n",
    "\n",
    "### Loading Libraries\n",
    "The required packages for this example are:\n",
    "\n",
    "- **DataStreamDSWS**: Python API package for Refinitiv Datastream Webservice\n",
    "- **pandas**: Powerful data structures for data analysis, time series, and statistics\n",
    "- **ipywidgets**: IPython HTML widgets for Jupyter\n",
    "- **IPython.display**: Public API for display tools in IPython\n",
    "- **Cufflinks**: Connecting Plotly with pandas to create graphs and charts of data frames directly\n",
    "\n",
    "You also need to install lxml package (pip install lxml) used by pandas when parsing the HTML file.\n",
    "\n",
    "In this article, we will use cufflinks offline mode which is quite enough for Jupyter Notebook usage."
   ]
  },
  {
   "cell_type": "code",
   "execution_count": null,
   "metadata": {},
   "outputs": [],
   "source": [
    "import DatastreamDSWS as DSWS\n",
    "import pandas as pd\n",
    "import ipywidgets as widgets #IPython widgets \n",
    "from ipywidgets import Button, HBox, VBox, Layout, Dropdown, Label\n",
    "from IPython.display import display, clear_output\n",
    "import cufflinks as cf\n",
    "\n",
    "cf.set_config_file(offline=True) "
   ]
  },
  {
   "cell_type": "markdown",
   "metadata": {},
   "source": [
    "## Setting Credentials\n",
    "\n",
    "The DataStream username and password are required to run the example. "
   ]
  },
  {
   "cell_type": "code",
   "execution_count": null,
   "metadata": {},
   "outputs": [],
   "source": [
    "ds = DSWS.Datastream(username = 'username', password = 'password')"
   ]
  },
  {
   "cell_type": "markdown",
   "metadata": {},
   "source": [
    "### Loading an Instrument List\n",
    "\n",
    "In [Datastream](http://product.datastream.com/browse/), the economic indicators are available under the **Economics** category. The data can be filtered by countries.\n",
    "\n",
    "![](econbycountry.png)\n",
    "\n",
    "A table on the right displays all economic data available in Datastream. \n",
    "\n",
    "In this example, we only focus on active key indicators so we add two filters (**Activity** and **Key Indicator**) to refine the search result.\n",
    "\n",
    "![](activeandkey.png)\n",
    "\n",
    "From the search results, there are around 8,600 active key indicators. \n",
    "\n",
    "![](active.png)\n",
    "\n",
    "After that, the search results can be downloaded to an excel file (**ActiveKeyIndicators.xls**). This excel file can be read into a data frame object by calling the **pandas.read_html** method. In the data frame:\n",
    "- The **Name** column contains short indicator names\n",
    "- The **Symbol** column contains instrument names used by Datastream to retrieve data\n",
    "- The **Market** column contains country names\n",
    "- The **Full Name** column contains full indicator names\n",
    "- The **Frequency** column contains the frequency of the time-series data"
   ]
  },
  {
   "cell_type": "code",
   "execution_count": null,
   "metadata": {},
   "outputs": [],
   "source": [
    "df = pd.read_html('ActiveKeyIndicators.xls')  \n",
    "df[0][[\"Name\",\"Symbol\",\"Market\",\"Full Name\",\"Frequency\"]]"
   ]
  },
  {
   "cell_type": "markdown",
   "metadata": {},
   "source": [
    "### Economic Indicators By Countries\n",
    "\n",
    "In this section, we will create a widget that allows users to display available economic indicators by selecting a country. First, it sets the **display.max_rows** option to 200 to increase the maximum number of rows and columns displayed by the data frame.\n",
    "\n",
    "The widget displays a list of countries including the number of indicators in the dropdown list. After selecting a country, the economic indicators in that country are displayed.\n"
   ]
  },
  {
   "cell_type": "code",
   "execution_count": null,
   "metadata": {
    "scrolled": false
   },
   "outputs": [],
   "source": [
    "pd.set_option('display.max_rows', 200)\n",
    "class ListAllECIByCountryWidget:    \n",
    "    status_label = Label(\"\")\n",
    "    title_label  = Label(value='')\n",
    "    linebreak_label = Label('')   \n",
    "    button = Button(description='Select')\n",
    "    output = widgets.Output()\n",
    "    \n",
    "    def __init__(self, _context):\n",
    "        \n",
    "        country_count = _context.groupby([\"Market\"])[\"Symbol\"].count()\n",
    "        self.country_dropdown = Dropdown(options=[(index+\" (\"+str(value)+\")\", index) for index, value in country_count.items()], value='United States', description='Country:')\n",
    "       \n",
    "        display(HBox([self.country_dropdown,self.button]),            \n",
    "                self.output)\n",
    "        \n",
    "        self.button.on_click(self.on_button_clicked)  \n",
    "        self._context = _context\n",
    "        \n",
    "        \n",
    "    def on_button_clicked(self,c):\n",
    "        with self.output:\n",
    "            self.output.clear_output() #clear and update output\n",
    "            self.title_label.value = r'\\(\\underline{\\textbf{%s}}\\)'%(self.country_dropdown.value)\n",
    "            display(VBox([ HBox([self.linebreak_label]),\n",
    "                          HBox([self.title_label])\n",
    "                         ]))\n",
    "           \n",
    "            display(self._context[self._context[\"Market\"]==self.country_dropdown.value].set_index('Symbol')[[\"Name\",\"Start Date\",\"End Date\",\"Frequency\",\"Source\",\"Full Name\"]])\n",
    "                        \n",
    "                    \n",
    "ListAllECIByCountryWidget(df[0])"
   ]
  },
  {
   "cell_type": "markdown",
   "metadata": {},
   "source": [
    "### Historical Economic Indicators By Countries\n",
    "\n",
    "In this section, we will create a widget that displays historical data of a selected economic indicator. First, users need to select a country. Then, the widget creates a dropdown list containing economic indicators available in the selected country.\n",
    "\n",
    "After selecting the economic indicator, the widget calls the **get_data** method in the **DataStreamDSWS** library to retrieve the unit of the historical data.\n",
    "\n",
    "```\n",
    "ds.get_data(tickers=symbol, fields=[\"ESUNT\"],kind=0)\n",
    "\n",
    "```\n",
    "The **symbol** represents the Datastream symbol of the selected economic indicator. The **ESUNT** data type gives the unit quotation of the series. For example, the unit quotation of the **United States Gross Domestic Product (USGDP...A)** is **USD BIL**.\n",
    "\n",
    "Next, the widget calls the **get_data** method again to retrieve the historical data.\n",
    "\n",
    "```\n",
    "ds.get_data(tickers=symbol, start='BDATE',freq=freq)\n",
    "```\n",
    "\n",
    "The **BDATE** is the base date representing the date from which Datastream holds information about the issue. The **freq** parameter is the frequency of historical data. It could be **D** (Daily), **W** (Weekly), **M** (Monthly), **Q** (Quarterly), and **Y** (Annual). The widget gets the frequency of the selected economic indicator from the **Frequency** column in the data frame. For example, the quarterly historical data of **United States Gross Domestic Product (USGDP...A)** since BDATE (1 Jan 1950) is shown below.\n",
    "\n",
    "![](usgdp.png)\n",
    "\n",
    "Finally, the widget calls the **iplot** method to plot a chart.\n",
    "\n",
    "![](gdpchart.png)\n"
   ]
  },
  {
   "cell_type": "code",
   "execution_count": null,
   "metadata": {
    "scrolled": false
   },
   "outputs": [],
   "source": [
    "class HistoricalECIWidget:    \n",
    "    status_label = Label(\"\")\n",
    "   \n",
    "    eci_dropdown = Dropdown()\n",
    "    eci_dropdown.description = \"Economic:\"\n",
    "    status_label = Label(\"\")\n",
    "    title_label  = Label(value='')\n",
    "    linebreak_label = Label('')        \n",
    "    button = Button(description='Select')\n",
    "    output = widgets.Output()\n",
    "    \n",
    "    def __init__(self, _context):\n",
    "        country_count = _context.groupby([\"Market\"])[\"Symbol\"].count()\n",
    "        self.country_dropdown = Dropdown(options=[(index+\" (\"+str(value)+\")\", index) for index, value in country_count.items()], value='United States', description='Country:')\n",
    "        \n",
    "        display(HBox([self.country_dropdown]),\n",
    "                HBox([self.eci_dropdown,self.button]),\n",
    "                self.title_label,\n",
    "                self.status_label,\n",
    "                self.output)\n",
    "        \n",
    "        self.button.on_click(self.on_button_clicked)  \n",
    "        self._context = _context.set_index(\"Symbol\")\n",
    "        tuple_list = self._context[self._context[\"Market\"]==self.country_dropdown.value].sort_values(by=['Name'])[[\"Full Name\"]].to_records(index=True).tolist()\n",
    "        self.eci_dropdown.options = [t[::-1] for t in tuple_list]\n",
    "        self.country_dropdown.observe(self.on_country_change)\n",
    "\n",
    "    def _get_frequency(self, freq):\n",
    "        switcher={\n",
    "                'Daily':'D',\n",
    "                'Weekly':'W',\n",
    "                'Monthly':'M',\n",
    "                'Quarterly': 'Q',\n",
    "                'Annual': 'Y'\n",
    "        }\n",
    "        if freq in switcher:\n",
    "            return switcher[freq]\n",
    "        else:\n",
    "            return None\n",
    "               \n",
    "\n",
    "    def on_button_clicked(self,c):   \n",
    "        with self.output:\n",
    "            self.output.clear_output()            \n",
    "            symbol = self.eci_dropdown.value\n",
    "            title = self._context.loc[symbol,\"Full Name\"]\n",
    "            self.title_label.value = r'\\(\\underline{\\textbf{%s}}\\)'%(title)\n",
    "            temp_unit = ds.get_data(tickers=symbol, fields=[\"ESUNT\"],kind=0)\n",
    "            unit = temp_unit.iloc[0,2]\n",
    "            freq = self._get_frequency(self._context.loc[symbol,\"Frequency\"])\n",
    "           \n",
    "                                    \n",
    "            if freq==None:\n",
    "                self.status_label.value = \"Unable to match a frequence: \" + self._context.loc[symbol,\"Frequency\"]\n",
    "                return\n",
    "                                                                                              \n",
    "            display(self._context.loc[[symbol],[\"Name\",\"Start Date\",\"End Date\",\"Frequency\",\"Source\"]])\n",
    "            \n",
    "            display(ds.get_data(tickers=symbol, start='BDATE',freq=freq).iplot(title=title,yTitle=unit, xTitle=self._context.loc[symbol,\"Name\"]+\" (\"+self._context.loc[symbol,\"Frequency\"]+\")\"))\n",
    "        \n",
    "    def on_country_change(self, change):       \n",
    "        with self.output:            \n",
    "            self.eci_dropdown.options = []\n",
    "            tuple_list = self._context[self._context[\"Market\"]==self.country_dropdown.value].sort_values(by=['Full Name'])[[\"Full Name\"]].to_records(index=True).tolist()\n",
    "            self.eci_dropdown.options = [t[::-1] for t in tuple_list]            \n",
    "            \n",
    "                    \n",
    "HistoricalECIWidget(df[0])"
   ]
  },
  {
   "cell_type": "markdown",
   "metadata": {},
   "source": [
    "## Summary\n",
    "This article demonstrates how to use the Datastream Web Service to retrieve historical economic indicators for each country. First, it gets a list of key economic indicators from the [Datastream website](http://product.datastream.com/browse/) and loads the list to the data frame. Then, it creates two widgets. The first widget allows a user to choose a country and then it displays a list of economic indicators available in that country. The second widget allows a user to pick an economic indicator, then it displays a historical chart of the selected economic indicator.\n",
    "\n"
   ]
  },
  {
   "cell_type": "markdown",
   "metadata": {},
   "source": [
    "## References\n",
    "1. Developers.refinitiv.com. n.d. Datastream Web Service | Refinitiv Developers. [online] Available at: <https://developers.refinitiv.com/en/api-catalog/eikon/datastream-web-service> [Accessed 30 October 2020].\n",
    "2. En.wikipedia.org. n.d. Economic Indicator. [online] Available at: <https://en.wikipedia.org/wiki/Economic_indicator> [Accessed 30 October 2020].\n",
    "3. Corporate Finance Institute. n.d. Economic Indicators - Learn More About GDP, PMI, and CPI. [online] Available at: <https://corporatefinanceinstitute.com/resources/knowledge/economics/economic-indicators/> [Accessed 30 October 2020]."
   ]
  },
  {
   "cell_type": "code",
   "execution_count": null,
   "metadata": {},
   "outputs": [],
   "source": []
  }
 ],
 "metadata": {
  "kernelspec": {
   "display_name": "Python 3",
   "language": "python",
   "name": "python3"
  },
  "language_info": {
   "codemirror_mode": {
    "name": "ipython",
    "version": 3
   },
   "file_extension": ".py",
   "mimetype": "text/x-python",
   "name": "python",
   "nbconvert_exporter": "python",
   "pygments_lexer": "ipython3",
   "version": "3.7.9"
  }
 },
 "nbformat": 4,
 "nbformat_minor": 4
}
